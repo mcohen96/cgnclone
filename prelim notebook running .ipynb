{
 "cells": [
  {
   "cell_type": "code",
   "execution_count": 191,
   "metadata": {
    "collapsed": true
   },
   "outputs": [],
   "source": [
    "import numpy as np\n",
    "from scipy.linalg import solve"
   ]
  },
  {
   "cell_type": "code",
   "execution_count": 192,
   "metadata": {
    "collapsed": true
   },
   "outputs": [],
   "source": [
    "def gauss(q, w, c, n):\n",
    "\n",
    "    L = np.tril(q)\n",
    "    U = q - L\n",
    "    for i in range(n):\n",
    "        c = np.dot(np.linalg.inv(L), b - np.dot(U, c))\n",
    "        print(c)\n",
    "    return c\n"
   ]
  },
  {
   "cell_type": "code",
   "execution_count": 193,
   "metadata": {},
   "outputs": [
    {
     "name": "stdout",
     "output_type": "stream",
     "text": [
      "[[ 6  0 -1  0  0]\n",
      " [-3  3  0  0  0]\n",
      " [ 0 -1  9  0  0]\n",
      " [ 0 -1 -8 11 -2]\n",
      " [-3 -1  0  0  4]]\n"
     ]
    },
    {
     "data": {
      "text/plain": [
       "(5, 5)"
      ]
     },
     "execution_count": 193,
     "metadata": {},
     "output_type": "execute_result"
    }
   ],
   "source": [
    "q = np.squeeze(np.array([[6, 0,-1,0,0],[-3,3,0,0,0], [0,-1,9,0,0],[0,-1,-8,11,-2], [-3, -1,0,0,4]]))\n",
    "\n",
    "print (q)\n",
    "q.shape"
   ]
  },
  {
   "cell_type": "code",
   "execution_count": 194,
   "metadata": {},
   "outputs": [
    {
     "name": "stdout",
     "output_type": "stream",
     "text": [
      "[ 50   0 160   0   0]\n"
     ]
    }
   ],
   "source": [
    "w = np.squeeze(np.array([50,0,160,0,0]))\n",
    "c = [1,1,1,1,1]\n",
    "n = 20\n",
    "print(w)\n"
   ]
  },
  {
   "cell_type": "code",
   "execution_count": 199,
   "metadata": {},
   "outputs": [
    {
     "name": "stdout",
     "output_type": "stream",
     "text": [
      "\n",
      " initial c's = [1,1,1,1,1]\n",
      "[ 11.50943396  11.50943396  19.05660377  16.99828473  11.50943396]\n",
      "[ 11.50943396  11.50943396  19.05660377  16.99828473  11.50943396]\n",
      "[ 11.50943396  11.50943396  19.05660377  16.99828473  11.50943396]\n",
      "[ 11.50943396  11.50943396  19.05660377  16.99828473  11.50943396]\n",
      "[ 11.50943396  11.50943396  19.05660377  16.99828473  11.50943396]\n",
      "[ 11.50943396  11.50943396  19.05660377  16.99828473  11.50943396]\n",
      "[ 11.50943396  11.50943396  19.05660377  16.99828473  11.50943396]\n",
      "[ 11.50943396  11.50943396  19.05660377  16.99828473  11.50943396]\n",
      "[ 11.50943396  11.50943396  19.05660377  16.99828473  11.50943396]\n",
      "[ 11.50943396  11.50943396  19.05660377  16.99828473  11.50943396]\n",
      "[ 11.50943396  11.50943396  19.05660377  16.99828473  11.50943396]\n",
      "[ 11.50943396  11.50943396  19.05660377  16.99828473  11.50943396]\n",
      "[ 11.50943396  11.50943396  19.05660377  16.99828473  11.50943396]\n",
      "[ 11.50943396  11.50943396  19.05660377  16.99828473  11.50943396]\n",
      "[ 11.50943396  11.50943396  19.05660377  16.99828473  11.50943396]\n",
      "[ 11.50943396  11.50943396  19.05660377  16.99828473  11.50943396]\n",
      "[ 11.50943396  11.50943396  19.05660377  16.99828473  11.50943396]\n",
      "[ 11.50943396  11.50943396  19.05660377  16.99828473  11.50943396]\n",
      "[ 11.50943396  11.50943396  19.05660377  16.99828473  11.50943396]\n",
      "[ 11.50943396  11.50943396  19.05660377  16.99828473  11.50943396]\n",
      "\n",
      "Sol \n",
      "[ 11.50943396  11.50943396  19.05660377  16.99828473  11.50943396]\n",
      "Actual\n",
      "  11.50943393, 11.50943393, 19.05660377, 16.99828473, 11.5094339\n",
      "\n",
      "\n"
     ]
    }
   ],
   "source": [
    "print(\"\\n initial c's = [1,1,1,1,1]\")\n",
    "c = gauss(q,w,c, n,)\n",
    "print(\"\\nSol \"),\n",
    "print(c)\n",
    "print(\"Actual\")  \n",
    "print (\"  11.50943393, 11.50943393, 19.05660377, 16.99828473, 11.5094339\")\n",
    "print(\"\\n\")"
   ]
  },
  {
   "cell_type": "code",
   "execution_count": 196,
   "metadata": {},
   "outputs": [
    {
     "name": "stdout",
     "output_type": "stream",
     "text": [
      "[[ 6  0  0  0  0]\n",
      " [-3  3  0  0  0]\n",
      " [ 0 -1  9  0  0]\n",
      " [ 0 -1 -8 11  0]\n",
      " [-3 -1  0  0  4]]\n"
     ]
    }
   ],
   "source": [
    "print(np.tril(q))"
   ]
  },
  {
   "cell_type": "code",
   "execution_count": 190,
   "metadata": {},
   "outputs": [
    {
     "name": "stdout",
     "output_type": "stream",
     "text": [
      "[[ 0  0 -1  0  0]\n",
      " [ 0  0  0  0  0]\n",
      " [ 0  0  0  0  0]\n",
      " [ 0  0  0  0 -2]\n",
      " [ 0  0  0  0  0]]\n"
     ]
    }
   ],
   "source": [
    "print(q-np.tril(q))"
   ]
  },
  {
   "cell_type": "code",
   "execution_count": 188,
   "metadata": {},
   "outputs": [
    {
     "name": "stdout",
     "output_type": "stream",
     "text": [
      "[[ 0.16981132  0.00628931  0.01886792  0.          0.        ]\n",
      " [ 0.16981132  0.33962264  0.01886792  0.          0.        ]\n",
      " [ 0.01886792  0.03773585  0.11320755  0.          0.        ]\n",
      " [ 0.06003431  0.07461407  0.08747856  0.09090909  0.04545455]\n",
      " [ 0.16981132  0.08962264  0.01886792  0.          0.25      ]]\n"
     ]
    }
   ],
   "source": [
    "print(np.linalg.inv(q))"
   ]
  },
  {
   "cell_type": "code",
   "execution_count": null,
   "metadata": {},
   "outputs": [],
   "source": []
  },
  {
   "cell_type": "code",
   "execution_count": null,
   "metadata": {
    "collapsed": true
   },
   "outputs": [],
   "source": []
  }
 ],
 "metadata": {
  "kernelspec": {
   "display_name": "Python 3",
   "language": "python",
   "name": "python3"
  },
  "language_info": {
   "codemirror_mode": {
    "name": "ipython",
    "version": 3
   },
   "file_extension": ".py",
   "mimetype": "text/x-python",
   "name": "python",
   "nbconvert_exporter": "python",
   "pygments_lexer": "ipython3",
   "version": "3.6.3"
  }
 },
 "nbformat": 4,
 "nbformat_minor": 2
}
